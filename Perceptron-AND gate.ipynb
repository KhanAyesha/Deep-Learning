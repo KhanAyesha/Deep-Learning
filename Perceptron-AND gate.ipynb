{
 "cells": [
  {
   "cell_type": "code",
   "execution_count": 45,
   "metadata": {},
   "outputs": [],
   "source": [
    "import numpy as np\n",
    "import joblib\n",
    "import pandas as pd\n",
    "import matplotlib.pyplot as plt"
   ]
  },
  {
   "cell_type": "code",
   "execution_count": 40,
   "metadata": {},
   "outputs": [],
   "source": [
    "class Perceptron:\n",
    "    def __init__(self, lr, epoch, X):\n",
    "        self.weights = np.random.randn(3)*1e-4  #returns a number randomly generated from normal distribution\n",
    "        self.lr = lr\n",
    "        self.epoch = epoch\n",
    "        self.X = X\n",
    "        self.X_with_bias = np.c_[X, np.ones((len(X),1))]\n",
    "        self.Y = Y\n",
    "        \n",
    "    def actfunc(self, x_with_bias, weights):\n",
    "        z = np.dot(x_with_bias, weights)\n",
    "        z = np.where(z>0, 1, 0)\n",
    "        return z\n",
    "    \n",
    "    def fit(self,Y):\n",
    "        for epoch in range(self.epoch):\n",
    "            yhat = self.actfunc(self.X_with_bias, self.weights)\n",
    "            error = Y - yhat\n",
    "            self.weights = self.weights + self.lr * np.dot(self.X_with_bias.T, error)\n",
    "    \n",
    "    def predict(self):\n",
    "        return self.actfunc(self.X_with_bias, self.weights)"
   ]
  },
  {
   "cell_type": "code",
   "execution_count": 10,
   "metadata": {},
   "outputs": [
    {
     "data": {
      "text/html": [
       "<div>\n",
       "<style scoped>\n",
       "    .dataframe tbody tr th:only-of-type {\n",
       "        vertical-align: middle;\n",
       "    }\n",
       "\n",
       "    .dataframe tbody tr th {\n",
       "        vertical-align: top;\n",
       "    }\n",
       "\n",
       "    .dataframe thead th {\n",
       "        text-align: right;\n",
       "    }\n",
       "</style>\n",
       "<table border=\"1\" class=\"dataframe\">\n",
       "  <thead>\n",
       "    <tr style=\"text-align: right;\">\n",
       "      <th></th>\n",
       "      <th>X1</th>\n",
       "      <th>X2</th>\n",
       "      <th>Y</th>\n",
       "    </tr>\n",
       "  </thead>\n",
       "  <tbody>\n",
       "    <tr>\n",
       "      <th>0</th>\n",
       "      <td>0</td>\n",
       "      <td>0</td>\n",
       "      <td>0</td>\n",
       "    </tr>\n",
       "    <tr>\n",
       "      <th>1</th>\n",
       "      <td>0</td>\n",
       "      <td>1</td>\n",
       "      <td>0</td>\n",
       "    </tr>\n",
       "    <tr>\n",
       "      <th>2</th>\n",
       "      <td>1</td>\n",
       "      <td>0</td>\n",
       "      <td>0</td>\n",
       "    </tr>\n",
       "    <tr>\n",
       "      <th>3</th>\n",
       "      <td>1</td>\n",
       "      <td>1</td>\n",
       "      <td>1</td>\n",
       "    </tr>\n",
       "  </tbody>\n",
       "</table>\n",
       "</div>"
      ],
      "text/plain": [
       "   X1  X2  Y\n",
       "0   0   0  0\n",
       "1   0   1  0\n",
       "2   1   0  0\n",
       "3   1   1  1"
      ]
     },
     "execution_count": 10,
     "metadata": {},
     "output_type": "execute_result"
    }
   ],
   "source": [
    "data = {\"X1\":[0,0,1,1], \"X2\": [0,1,0,1], \"Y\":[0,0,0,1]}\n",
    "AND = pd.DataFrame(data)\n",
    "AND.head()"
   ]
  },
  {
   "cell_type": "code",
   "execution_count": 13,
   "metadata": {},
   "outputs": [],
   "source": [
    "X = AND.drop(\"Y\", axis = 1)\n",
    "Y = AND['Y']"
   ]
  },
  {
   "cell_type": "code",
   "execution_count": 41,
   "metadata": {},
   "outputs": [
    {
     "data": {
      "text/plain": [
       "array([0, 0, 0, 1])"
      ]
     },
     "execution_count": 41,
     "metadata": {},
     "output_type": "execute_result"
    }
   ],
   "source": [
    "percep = Perceptron(0.01, 100, X)\n",
    "percep.fit(Y)\n",
    "percep.predict()"
   ]
  },
  {
   "cell_type": "code",
   "execution_count": 52,
   "metadata": {},
   "outputs": [
    {
     "data": {
      "text/plain": [
       "[<matplotlib.lines.Line2D at 0x2654f61a848>]"
      ]
     },
     "execution_count": 52,
     "metadata": {},
     "output_type": "execute_result"
    },
    {
     "data": {
      "image/png": "[encoded data removed]",
      "text/plain": [
       "<Figure size 432x288 with 2 Axes>"
      ]
     },
     "metadata": {
      "needs_background": "light"
     },
     "output_type": "display_data"
    }
   ],
   "source": [
    "AND.plot(kind=\"scatter\", x = \"X1\", y = \"X2\", c = \"Y\", cmap = \"winter\", s = 50)\n",
    "plt.axhline(y=0, color = \"red\", linestyle = \"--\", linewidth = 2)\n",
    "plt.axvline(x=0, color = \"red\", linestyle = \"--\", linewidth = 2)\n",
    "\n",
    "plt.plot(np.linspace(0,1.4), 1.5 - np.linspace(0,1.4), \"y--\")"
   ]
  },
  {
   "cell_type": "code",
   "execution_count": null,
   "metadata": {},
   "outputs": [],
   "source": [
    "filename = \"And_model.model\"\n",
    "joblib.dump(model, filename)\n"
   ]
  }
 ],
 "metadata": {
  "kernelspec": {
   "display_name": "Python 3",
   "language": "python",
   "name": "python3"
  },
  "language_info": {
   "codemirror_mode": {
    "name": "ipython",
    "version": 3
   },
   "file_extension": ".py",
   "mimetype": "text/x-python",
   "name": "python",
   "nbconvert_exporter": "python",
   "pygments_lexer": "ipython3",
   "version": "3.7.6"
  }
 },
 "nbformat": 4,
 "nbformat_minor": 4
}
